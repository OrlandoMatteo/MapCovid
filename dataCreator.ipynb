{
 "cells": [
  {
   "cell_type": "code",
   "execution_count": 1,
   "metadata": {},
   "outputs": [],
   "source": [
    "import requests\n",
    "import json"
   ]
  },
  {
   "cell_type": "code",
   "execution_count": 2,
   "metadata": {},
   "outputs": [],
   "source": [
    "dati_comuni=requests.get('https://raw.githubusercontent.com/MatteoHenryChinaski/Comuni-Italiani-2018-Sql-Json-excel/master/italy_cities.json').json()\n",
    "comuniGeojson=requests.get('https://raw.githubusercontent.com/openpolis/geojson-italy/master/geojson/limits_IT_municipalities.geojson').json()"
   ]
  },
  {
   "cell_type": "code",
   "execution_count": 3,
   "metadata": {},
   "outputs": [],
   "source": [
    "dati_province=requests.get('https://raw.githubusercontent.com/MatteoHenryChinaski/Comuni-Italiani-2018-Sql-Json-excel/master/italy_provincies.json').json()\n",
    "provinceGeojson=requests.get('https://raw.githubusercontent.com/openpolis/geojson-italy/master/geojson/limits_IT_provinces.geojson').json()"
   ]
  },
  {
   "cell_type": "code",
   "execution_count": 4,
   "metadata": {},
   "outputs": [],
   "source": [
    "covidProvincie=requests.get('https://raw.githubusercontent.com/pcm-dpc/COVID-19/master/dati-json/dpc-covid19-ita-province-latest.json').json()"
   ]
  },
  {
   "cell_type": "code",
   "execution_count": 5,
   "metadata": {},
   "outputs": [
    {
     "output_type": "execute_result",
     "data": {
      "text/plain": "({'istat': '1001',\n  'comune': 'Agliè',\n  'regione': 'Piemonte',\n  'provincia': 'TO',\n  'prefisso': '124',\n  'cod_fisco': 'A074',\n  'superficie': '13.28',\n  'num_residenti': '2669'},\n {'sigla': 'AG',\n  'provincia': 'Agrigento',\n  'superficie': '3044.85',\n  'residenti': '446081',\n  'num_comuni': '43',\n  'id_regione': '15'})"
     },
     "metadata": {},
     "execution_count": 5
    }
   ],
   "source": [
    "dati_comuni[0],dati_province[0]"
   ]
  },
  {
   "cell_type": "code",
   "execution_count": 6,
   "metadata": {
    "tags": []
   },
   "outputs": [],
   "source": [
    "for i,comune in enumerate(dati_comuni[:-2]):\n",
    "    prov_code=comune['provincia']\n",
    "    prov_pop=0\n",
    "    for provincia in dati_province[:-2]:\n",
    "        if provincia['sigla']==prov_code:\n",
    "            prov_pop=float(provincia['residenti'])\n",
    "            dati_comuni[i]['density']=float(comune['num_residenti'])/prov_pop\n",
    "\n",
    "\n"
   ]
  },
  {
   "cell_type": "code",
   "execution_count": 76,
   "metadata": {},
   "outputs": [
    {
     "output_type": "execute_result",
     "data": {
      "text/plain": "0.001183739000851547"
     },
     "metadata": {},
     "execution_count": 76
    }
   ],
   "source": []
  },
  {
   "cell_type": "code",
   "execution_count": 7,
   "metadata": {
    "tags": []
   },
   "outputs": [],
   "source": [
    "for i,comune in enumerate(dati_comuni[:-2]):\n",
    "    prov_code=comune['provincia']\n",
    "    prov_pop=0\n",
    "    for provincia in covidProvincie:\n",
    "        if provincia['sigla_provincia']==prov_code:\n",
    "            prov_covid=float(provincia['totale_casi'])\n",
    "            dati_comuni[i]['covid']=dati_comuni[i]['density']*prov_covid"
   ]
  },
  {
   "cell_type": "code",
   "execution_count": 8,
   "metadata": {},
   "outputs": [
    {
     "output_type": "execute_result",
     "data": {
      "text/plain": "{'istat': '1001',\n 'comune': 'Agliè',\n 'regione': 'Piemonte',\n 'provincia': 'TO',\n 'prefisso': '124',\n 'cod_fisco': 'A074',\n 'superficie': '13.28',\n 'num_residenti': '2669',\n 'density': 0.001183739000851547,\n 'covid': 61.481036226227644}"
     },
     "metadata": {},
     "execution_count": 8
    }
   ],
   "source": [
    "dati_comuni[0]"
   ]
  },
  {
   "cell_type": "code",
   "execution_count": 9,
   "metadata": {},
   "outputs": [],
   "source": [
    "covidProvincie=requests.get('https://raw.githubusercontent.com/pcm-dpc/COVID-19/master/dati-json/dpc-covid19-ita-province-latest.json').json()"
   ]
  },
  {
   "cell_type": "code",
   "execution_count": 10,
   "metadata": {},
   "outputs": [
    {
     "output_type": "execute_result",
     "data": {
      "text/plain": "{'name': 'Agliè',\n 'op_id': '130',\n 'minint_elettorale': '1010810010',\n 'prov_name': 'Torino',\n 'prov_istat_code': '001',\n 'prov_istat_code_num': 1,\n 'prov_acr': 'TO',\n 'reg_name': 'Piemonte',\n 'reg_istat_code': '01',\n 'reg_istat_code_num': 1,\n 'opdm_id': '1',\n 'com_catasto_code': 'A074',\n 'com_istat_code': '001001',\n 'com_istat_code_num': 1001}"
     },
     "metadata": {},
     "execution_count": 10
    }
   ],
   "source": [
    "comuniGeojson['features'][0][\"properties\"]"
   ]
  },
  {
   "cell_type": "code",
   "execution_count": 11,
   "metadata": {
    "tags": []
   },
   "outputs": [],
   "source": [
    "for i,comGeo in enumerate(comuniGeojson['features'][:3]):\n",
    "    for comune in dati_comuni[:-2]:\n",
    "        if str(comGeo['properties']['com_catasto_code'])==comune['cod_fisco']:\n",
    "            comuniGeojson['features'][i]['properties']['covid']=comune['covid']"
   ]
  },
  {
   "cell_type": "code",
   "execution_count": 18,
   "metadata": {},
   "outputs": [
    {
     "output_type": "execute_result",
     "data": {
      "text/plain": "{'type': 'Feature',\n 'properties': {'name': 'Agliè',\n  'op_id': '130',\n  'minint_elettorale': '1010810010',\n  'prov_name': 'Torino',\n  'prov_istat_code': '001',\n  'prov_istat_code_num': 1,\n  'prov_acr': 'TO',\n  'reg_name': 'Piemonte',\n  'reg_istat_code': '01',\n  'reg_istat_code_num': 1,\n  'opdm_id': '1',\n  'com_catasto_code': 'A074',\n  'com_istat_code': '001001',\n  'com_istat_code_num': 1001,\n  'covid': 61.481036226227644},\n 'geometry': {'type': 'MultiPolygon',\n  'coordinates': [[[[7.782661515272468, 45.387173495222584],\n     [7.7910600054132555, 45.386299574441175],\n     [7.78970213841617, 45.38468296634535],\n     [7.790383377827609, 45.38328598327816],\n     [7.798943942272905, 45.376535355178675],\n     [7.799499099039531, 45.376253151602604],\n     [7.800426822639241, 45.3758668492953],\n     [7.80282043916414, 45.37493332886601],\n     [7.803001902144609, 45.36813026378089],\n     [7.803003262357942, 45.368008756886354],\n     [7.803009886582579, 45.3673922236556],\n     [7.802660329394739, 45.365934856297294],\n     [7.7991085554914665, 45.35787738953755],\n     [7.796344153557446, 45.357267704507834],\n     [7.794979207348071, 45.3572128086757],\n     [7.794790551634666, 45.3572288287821],\n     [7.7891537568748115, 45.358798442954644],\n     [7.787936188936448, 45.359127563424664],\n     [7.786047956391728, 45.359062508806936],\n     [7.784650492311994, 45.35813850151105],\n     [7.783948990014299, 45.35750995115433],\n     [7.782855032613745, 45.35613009225999],\n     [7.781989125747927, 45.354239579493694],\n     [7.781382996498502, 45.35214481153486],\n     [7.781037178114273, 45.350412866063664],\n     [7.7808561708145625, 45.349330770097566],\n     [7.78098874458388, 45.34668580671079],\n     [7.781272013837244, 45.345419635196606],\n     [7.781054666697419, 45.34484123029374],\n     [7.777090534846719, 45.34220646437151],\n     [7.775701943595301, 45.34148948029853],\n     [7.773336510728359, 45.341680133736844],\n     [7.7722773845997795, 45.34284793055394],\n     [7.772225369331326, 45.342892371182906],\n     [7.758536488215989, 45.3489913023902],\n     [7.756662522708006, 45.349457002682776],\n     [7.754758251397301, 45.35013834013315],\n     [7.750841336851549, 45.35177881881005],\n     [7.750686010330231, 45.35187613234227],\n     [7.750528307734749, 45.352081447182094],\n     [7.747994534330371, 45.35698641900003],\n     [7.747552471098724, 45.3579267000815],\n     [7.746342223926713, 45.357805412452855],\n     [7.7460435159602, 45.35861224582249],\n     [7.745798841531458, 45.35928465549797],\n     [7.7457394350581055, 45.359662062002734],\n     [7.74578174129561, 45.36005859551445],\n     [7.7503512075016605, 45.36418627510676],\n     [7.75297634183648, 45.36500709015101],\n     [7.755315838296866, 45.36546466623437],\n     [7.76456942254024, 45.37151050952607],\n     [7.764571967933767, 45.37164105412321],\n     [7.764547732995938, 45.371928833754865],\n     [7.76413613084575, 45.37450102783444],\n     [7.763768733290884, 45.376763091691664],\n     [7.763553231054058, 45.378076231016955],\n     [7.7633234327812835, 45.37946766521808],\n     [7.763884836922117, 45.38094817230769],\n     [7.764205589270377, 45.38177254674361],\n     [7.76452155052109, 45.38251406854702],\n     [7.764886805705483, 45.383337124708824],\n     [7.7658597556171785, 45.38481485392923],\n     [7.766190979409349, 45.38527751115905],\n     [7.766384834652736, 45.38552262894248],\n     [7.766726916149404, 45.38565234231279],\n     [7.766905318636531, 45.38567227949291],\n     [7.767084502946507, 45.38565620326601],\n     [7.7673795879073655, 45.38559637823682],\n     [7.767704617506304, 45.38551888457691],\n     [7.773956118472213, 45.38919566497387],\n     [7.782661515272468, 45.387173495222584]]]]}}"
     },
     "metadata": {},
     "execution_count": 18
    }
   ],
   "source": [
    "comuniGeojson[\"features\"][0]"
   ]
  },
  {
   "cell_type": "code",
   "execution_count": 13,
   "metadata": {},
   "outputs": [],
   "source": [
    "#json.dump(comuniGeojson,open(\"comuniCovidStat.json\",'w'))"
   ]
  },
  {
   "cell_type": "code",
   "execution_count": 14,
   "metadata": {},
   "outputs": [],
   "source": []
  },
  {
   "cell_type": "code",
   "execution_count": 29,
   "metadata": {},
   "outputs": [
    {
     "output_type": "display_data",
     "data": {
      "text/plain": "<Figure size 432x288 with 1 Axes>",
      "image/svg+xml": "<?xml version=\"1.0\" encoding=\"utf-8\" standalone=\"no\"?>\n<!DOCTYPE svg PUBLIC \"-//W3C//DTD SVG 1.1//EN\"\n  \"http://www.w3.org/Graphics/SVG/1.1/DTD/svg11.dtd\">\n<!-- Created with matplotlib (https://matplotlib.org/) -->\n<svg height=\"252.208624pt\" version=\"1.1\" viewBox=\"0 0 257.9275 252.208624\" width=\"257.9275pt\" xmlns=\"http://www.w3.org/2000/svg\" xmlns:xlink=\"http://www.w3.org/1999/xlink\">\n <defs>\n  <style type=\"text/css\">\n*{stroke-linecap:butt;stroke-linejoin:round;}\n  </style>\n </defs>\n <g id=\"figure_1\">\n  <g id=\"patch_1\">\n   <path d=\"M 0 252.208624 \nL 257.9275 252.208624 \nL 257.9275 0 \nL 0 0 \nz\n\" style=\"fill:none;\"/>\n  </g>\n  <g id=\"axes_1\">\n   <g id=\"patch_2\">\n    <path d=\"M 33.2875 228.330499 \nL 250.7275 228.330499 \nL 250.7275 10.890499 \nL 33.2875 10.890499 \nz\n\" style=\"fill:#ffffff;\"/>\n   </g>\n   <g clip-path=\"url(#pbcaef1b8a8)\">\n    <image height=\"218\" id=\"imageff85f0c4bc\" transform=\"scale(1 -1)translate(0 -218)\" width=\"218\" x=\"33.2875\" xlink:href=\"data:image/png;base64,\niVBORw0KGgoAAAANSUhEUgAAANoAAADaCAYAAADAHVzbAAAABHNCSVQICAgIfAhkiAAAAppJREFUeJzt10ENg1AUBdFSGahARBMMYLYuqqI2YEdSAcxP6DkK7maS96bXtO0P4FLP0QPgHwgNAkKDgNAgIDQICA0CQoOA0CAgNAgIDQJCg4DQICA0CAgNAkKDgNAgIDQICA0CQoOA0CAgNAgIDQJCg4DQICA0CAgNAkKDgNAgIDQICA0CQoOA0CAgNAgIDQJCg4DQICA0CAgNAkKDgNAgIDQICA0CQoOA0CAgNAgIDQJCg4DQICA0CAgNAkKDgNAgIDQICA0CQoOA0CAgNAgIDQJCg4DQICA0CAgNAkKDgNAgIDQICA0CQoOA0CAgNAgIDQJCg4DQICA0CAgNAkKDgNAgIDQICA0CQoOA0CAgNAgIDQJCg4DQICA0CAgNAkKDgNAgIDQICA0CQoOA0CAgNAgIDQJCg4DQICA0CAgNAkKDgNAgIDQICA0CQoOA0CAgNAgIDQJCg4DQICA0CAgNAkKDgNAgIDQICA0CQoOA0CAgNAgIDQJCg4DQICA0CAgNAkKDgNAgIDQICA0CQoOA0CAgNAgIDQJCg4DQICA0CAgNAkKDgNAgIDQICA0CQoOA0CAgNAgIDQJCg4DQICA0CAgNAkKDgNAgIDQICA0CQoOA0CAgNAgIDQJCg4DQICA0CAgNAkKDgNAgIDQICA0CQoOA0CAgNAgIDQJCg4DQICA0CAgNAkKDgNAgIDQICA0CQoOA0CAgNAgIDQJCg4DQICA0CAgNAkKDgNAgIDQICA0CQoOA0CAgNAgIDQJCg4DQICA0CAgNAkKDgNAgIDQICA0CQoOA0CAgNAgIDQJCg4DQICA0CAgNAkKDwBna+/sZuQNu7QxtnRexwUV+Tsd1XkbtgFvzo0FAaBAQGgSEBgGhQUBoEBAaBA51QwlMxVooYQAAAABJRU5ErkJggg==\" y=\"-10.330499\"/>\n   </g>\n   <g id=\"matplotlib.axis_1\">\n    <g id=\"xtick_1\">\n     <g id=\"line2d_1\">\n      <defs>\n       <path d=\"M 0 0 \nL 0 3.5 \n\" id=\"m06f0ab5f4b\" style=\"stroke:#000000;stroke-width:0.8;\"/>\n      </defs>\n      <g>\n       <use style=\"stroke:#000000;stroke-width:0.8;\" x=\"33.39622\" xlink:href=\"#m06f0ab5f4b\" y=\"228.330499\"/>\n      </g>\n     </g>\n     <g id=\"text_1\">\n      <!-- 0 -->\n      <defs>\n       <path d=\"M 31.78125 66.40625 \nQ 24.171875 66.40625 20.328125 58.90625 \nQ 16.5 51.421875 16.5 36.375 \nQ 16.5 21.390625 20.328125 13.890625 \nQ 24.171875 6.390625 31.78125 6.390625 \nQ 39.453125 6.390625 43.28125 13.890625 \nQ 47.125 21.390625 47.125 36.375 \nQ 47.125 51.421875 43.28125 58.90625 \nQ 39.453125 66.40625 31.78125 66.40625 \nz\nM 31.78125 74.21875 \nQ 44.046875 74.21875 50.515625 64.515625 \nQ 56.984375 54.828125 56.984375 36.375 \nQ 56.984375 17.96875 50.515625 8.265625 \nQ 44.046875 -1.421875 31.78125 -1.421875 \nQ 19.53125 -1.421875 13.0625 8.265625 \nQ 6.59375 17.96875 6.59375 36.375 \nQ 6.59375 54.828125 13.0625 64.515625 \nQ 19.53125 74.21875 31.78125 74.21875 \nz\n\" id=\"DejaVuSans-48\"/>\n      </defs>\n      <g transform=\"translate(30.21497 242.928936)scale(0.1 -0.1)\">\n       <use xlink:href=\"#DejaVuSans-48\"/>\n      </g>\n     </g>\n    </g>\n    <g id=\"xtick_2\">\n     <g id=\"line2d_2\">\n      <g>\n       <use style=\"stroke:#000000;stroke-width:0.8;\" x=\"76.88422\" xlink:href=\"#m06f0ab5f4b\" y=\"228.330499\"/>\n      </g>\n     </g>\n     <g id=\"text_2\">\n      <!-- 200 -->\n      <defs>\n       <path d=\"M 19.1875 8.296875 \nL 53.609375 8.296875 \nL 53.609375 0 \nL 7.328125 0 \nL 7.328125 8.296875 \nQ 12.9375 14.109375 22.625 23.890625 \nQ 32.328125 33.6875 34.8125 36.53125 \nQ 39.546875 41.84375 41.421875 45.53125 \nQ 43.3125 49.21875 43.3125 52.78125 \nQ 43.3125 58.59375 39.234375 62.25 \nQ 35.15625 65.921875 28.609375 65.921875 \nQ 23.96875 65.921875 18.8125 64.3125 \nQ 13.671875 62.703125 7.8125 59.421875 \nL 7.8125 69.390625 \nQ 13.765625 71.78125 18.9375 73 \nQ 24.125 74.21875 28.421875 74.21875 \nQ 39.75 74.21875 46.484375 68.546875 \nQ 53.21875 62.890625 53.21875 53.421875 \nQ 53.21875 48.921875 51.53125 44.890625 \nQ 49.859375 40.875 45.40625 35.40625 \nQ 44.1875 33.984375 37.640625 27.21875 \nQ 31.109375 20.453125 19.1875 8.296875 \nz\n\" id=\"DejaVuSans-50\"/>\n      </defs>\n      <g transform=\"translate(67.34047 242.928936)scale(0.1 -0.1)\">\n       <use xlink:href=\"#DejaVuSans-50\"/>\n       <use x=\"63.623047\" xlink:href=\"#DejaVuSans-48\"/>\n       <use x=\"127.246094\" xlink:href=\"#DejaVuSans-48\"/>\n      </g>\n     </g>\n    </g>\n    <g id=\"xtick_3\">\n     <g id=\"line2d_3\">\n      <g>\n       <use style=\"stroke:#000000;stroke-width:0.8;\" x=\"120.37222\" xlink:href=\"#m06f0ab5f4b\" y=\"228.330499\"/>\n      </g>\n     </g>\n     <g id=\"text_3\">\n      <!-- 400 -->\n      <defs>\n       <path d=\"M 37.796875 64.3125 \nL 12.890625 25.390625 \nL 37.796875 25.390625 \nz\nM 35.203125 72.90625 \nL 47.609375 72.90625 \nL 47.609375 25.390625 \nL 58.015625 25.390625 \nL 58.015625 17.1875 \nL 47.609375 17.1875 \nL 47.609375 0 \nL 37.796875 0 \nL 37.796875 17.1875 \nL 4.890625 17.1875 \nL 4.890625 26.703125 \nz\n\" id=\"DejaVuSans-52\"/>\n      </defs>\n      <g transform=\"translate(110.82847 242.928936)scale(0.1 -0.1)\">\n       <use xlink:href=\"#DejaVuSans-52\"/>\n       <use x=\"63.623047\" xlink:href=\"#DejaVuSans-48\"/>\n       <use x=\"127.246094\" xlink:href=\"#DejaVuSans-48\"/>\n      </g>\n     </g>\n    </g>\n    <g id=\"xtick_4\">\n     <g id=\"line2d_4\">\n      <g>\n       <use style=\"stroke:#000000;stroke-width:0.8;\" x=\"163.86022\" xlink:href=\"#m06f0ab5f4b\" y=\"228.330499\"/>\n      </g>\n     </g>\n     <g id=\"text_4\">\n      <!-- 600 -->\n      <defs>\n       <path d=\"M 33.015625 40.375 \nQ 26.375 40.375 22.484375 35.828125 \nQ 18.609375 31.296875 18.609375 23.390625 \nQ 18.609375 15.53125 22.484375 10.953125 \nQ 26.375 6.390625 33.015625 6.390625 \nQ 39.65625 6.390625 43.53125 10.953125 \nQ 47.40625 15.53125 47.40625 23.390625 \nQ 47.40625 31.296875 43.53125 35.828125 \nQ 39.65625 40.375 33.015625 40.375 \nz\nM 52.59375 71.296875 \nL 52.59375 62.3125 \nQ 48.875 64.0625 45.09375 64.984375 \nQ 41.3125 65.921875 37.59375 65.921875 \nQ 27.828125 65.921875 22.671875 59.328125 \nQ 17.53125 52.734375 16.796875 39.40625 \nQ 19.671875 43.65625 24.015625 45.921875 \nQ 28.375 48.1875 33.59375 48.1875 \nQ 44.578125 48.1875 50.953125 41.515625 \nQ 57.328125 34.859375 57.328125 23.390625 \nQ 57.328125 12.15625 50.6875 5.359375 \nQ 44.046875 -1.421875 33.015625 -1.421875 \nQ 20.359375 -1.421875 13.671875 8.265625 \nQ 6.984375 17.96875 6.984375 36.375 \nQ 6.984375 53.65625 15.1875 63.9375 \nQ 23.390625 74.21875 37.203125 74.21875 \nQ 40.921875 74.21875 44.703125 73.484375 \nQ 48.484375 72.75 52.59375 71.296875 \nz\n\" id=\"DejaVuSans-54\"/>\n      </defs>\n      <g transform=\"translate(154.31647 242.928936)scale(0.1 -0.1)\">\n       <use xlink:href=\"#DejaVuSans-54\"/>\n       <use x=\"63.623047\" xlink:href=\"#DejaVuSans-48\"/>\n       <use x=\"127.246094\" xlink:href=\"#DejaVuSans-48\"/>\n      </g>\n     </g>\n    </g>\n    <g id=\"xtick_5\">\n     <g id=\"line2d_5\">\n      <g>\n       <use style=\"stroke:#000000;stroke-width:0.8;\" x=\"207.34822\" xlink:href=\"#m06f0ab5f4b\" y=\"228.330499\"/>\n      </g>\n     </g>\n     <g id=\"text_5\">\n      <!-- 800 -->\n      <defs>\n       <path d=\"M 31.78125 34.625 \nQ 24.75 34.625 20.71875 30.859375 \nQ 16.703125 27.09375 16.703125 20.515625 \nQ 16.703125 13.921875 20.71875 10.15625 \nQ 24.75 6.390625 31.78125 6.390625 \nQ 38.8125 6.390625 42.859375 10.171875 \nQ 46.921875 13.96875 46.921875 20.515625 \nQ 46.921875 27.09375 42.890625 30.859375 \nQ 38.875 34.625 31.78125 34.625 \nz\nM 21.921875 38.8125 \nQ 15.578125 40.375 12.03125 44.71875 \nQ 8.5 49.078125 8.5 55.328125 \nQ 8.5 64.0625 14.71875 69.140625 \nQ 20.953125 74.21875 31.78125 74.21875 \nQ 42.671875 74.21875 48.875 69.140625 \nQ 55.078125 64.0625 55.078125 55.328125 \nQ 55.078125 49.078125 51.53125 44.71875 \nQ 48 40.375 41.703125 38.8125 \nQ 48.828125 37.15625 52.796875 32.3125 \nQ 56.78125 27.484375 56.78125 20.515625 \nQ 56.78125 9.90625 50.3125 4.234375 \nQ 43.84375 -1.421875 31.78125 -1.421875 \nQ 19.734375 -1.421875 13.25 4.234375 \nQ 6.78125 9.90625 6.78125 20.515625 \nQ 6.78125 27.484375 10.78125 32.3125 \nQ 14.796875 37.15625 21.921875 38.8125 \nz\nM 18.3125 54.390625 \nQ 18.3125 48.734375 21.84375 45.5625 \nQ 25.390625 42.390625 31.78125 42.390625 \nQ 38.140625 42.390625 41.71875 45.5625 \nQ 45.3125 48.734375 45.3125 54.390625 \nQ 45.3125 60.0625 41.71875 63.234375 \nQ 38.140625 66.40625 31.78125 66.40625 \nQ 25.390625 66.40625 21.84375 63.234375 \nQ 18.3125 60.0625 18.3125 54.390625 \nz\n\" id=\"DejaVuSans-56\"/>\n      </defs>\n      <g transform=\"translate(197.80447 242.928936)scale(0.1 -0.1)\">\n       <use xlink:href=\"#DejaVuSans-56\"/>\n       <use x=\"63.623047\" xlink:href=\"#DejaVuSans-48\"/>\n       <use x=\"127.246094\" xlink:href=\"#DejaVuSans-48\"/>\n      </g>\n     </g>\n    </g>\n   </g>\n   <g id=\"matplotlib.axis_2\">\n    <g id=\"ytick_1\">\n     <g id=\"line2d_6\">\n      <defs>\n       <path d=\"M 0 0 \nL -3.5 0 \n\" id=\"mf9802f4fc2\" style=\"stroke:#000000;stroke-width:0.8;\"/>\n      </defs>\n      <g>\n       <use style=\"stroke:#000000;stroke-width:0.8;\" x=\"33.2875\" xlink:href=\"#mf9802f4fc2\" y=\"10.999219\"/>\n      </g>\n     </g>\n     <g id=\"text_6\">\n      <!-- 0 -->\n      <g transform=\"translate(19.925 14.798437)scale(0.1 -0.1)\">\n       <use xlink:href=\"#DejaVuSans-48\"/>\n      </g>\n     </g>\n    </g>\n    <g id=\"ytick_2\">\n     <g id=\"line2d_7\">\n      <g>\n       <use style=\"stroke:#000000;stroke-width:0.8;\" x=\"33.2875\" xlink:href=\"#mf9802f4fc2\" y=\"54.487219\"/>\n      </g>\n     </g>\n     <g id=\"text_7\">\n      <!-- 200 -->\n      <g transform=\"translate(7.2 58.286437)scale(0.1 -0.1)\">\n       <use xlink:href=\"#DejaVuSans-50\"/>\n       <use x=\"63.623047\" xlink:href=\"#DejaVuSans-48\"/>\n       <use x=\"127.246094\" xlink:href=\"#DejaVuSans-48\"/>\n      </g>\n     </g>\n    </g>\n    <g id=\"ytick_3\">\n     <g id=\"line2d_8\">\n      <g>\n       <use style=\"stroke:#000000;stroke-width:0.8;\" x=\"33.2875\" xlink:href=\"#mf9802f4fc2\" y=\"97.975219\"/>\n      </g>\n     </g>\n     <g id=\"text_8\">\n      <!-- 400 -->\n      <g transform=\"translate(7.2 101.774437)scale(0.1 -0.1)\">\n       <use xlink:href=\"#DejaVuSans-52\"/>\n       <use x=\"63.623047\" xlink:href=\"#DejaVuSans-48\"/>\n       <use x=\"127.246094\" xlink:href=\"#DejaVuSans-48\"/>\n      </g>\n     </g>\n    </g>\n    <g id=\"ytick_4\">\n     <g id=\"line2d_9\">\n      <g>\n       <use style=\"stroke:#000000;stroke-width:0.8;\" x=\"33.2875\" xlink:href=\"#mf9802f4fc2\" y=\"141.463219\"/>\n      </g>\n     </g>\n     <g id=\"text_9\">\n      <!-- 600 -->\n      <g transform=\"translate(7.2 145.262437)scale(0.1 -0.1)\">\n       <use xlink:href=\"#DejaVuSans-54\"/>\n       <use x=\"63.623047\" xlink:href=\"#DejaVuSans-48\"/>\n       <use x=\"127.246094\" xlink:href=\"#DejaVuSans-48\"/>\n      </g>\n     </g>\n    </g>\n    <g id=\"ytick_5\">\n     <g id=\"line2d_10\">\n      <g>\n       <use style=\"stroke:#000000;stroke-width:0.8;\" x=\"33.2875\" xlink:href=\"#mf9802f4fc2\" y=\"184.951219\"/>\n      </g>\n     </g>\n     <g id=\"text_10\">\n      <!-- 800 -->\n      <g transform=\"translate(7.2 188.750437)scale(0.1 -0.1)\">\n       <use xlink:href=\"#DejaVuSans-56\"/>\n       <use x=\"63.623047\" xlink:href=\"#DejaVuSans-48\"/>\n       <use x=\"127.246094\" xlink:href=\"#DejaVuSans-48\"/>\n      </g>\n     </g>\n    </g>\n   </g>\n   <g id=\"patch_3\">\n    <path d=\"M 33.2875 228.330499 \nL 33.2875 10.890499 \n\" style=\"fill:none;stroke:#000000;stroke-linecap:square;stroke-linejoin:miter;stroke-width:0.8;\"/>\n   </g>\n   <g id=\"patch_4\">\n    <path d=\"M 250.7275 228.330499 \nL 250.7275 10.890499 \n\" style=\"fill:none;stroke:#000000;stroke-linecap:square;stroke-linejoin:miter;stroke-width:0.8;\"/>\n   </g>\n   <g id=\"patch_5\">\n    <path d=\"M 33.2875 228.330499 \nL 250.7275 228.330499 \n\" style=\"fill:none;stroke:#000000;stroke-linecap:square;stroke-linejoin:miter;stroke-width:0.8;\"/>\n   </g>\n   <g id=\"patch_6\">\n    <path d=\"M 33.2875 10.890499 \nL 250.7275 10.890499 \n\" style=\"fill:none;stroke:#000000;stroke-linecap:square;stroke-linejoin:miter;stroke-width:0.8;\"/>\n   </g>\n  </g>\n </g>\n <defs>\n  <clipPath id=\"pbcaef1b8a8\">\n   <rect height=\"217.44\" width=\"217.44\" x=\"33.2875\" y=\"10.890499\"/>\n  </clipPath>\n </defs>\n</svg>\n",
      "image/png": "[encoded data removed]"
     },
     "metadata": {
      "needs_background": "light"
     }
    }
   ],
   "source": [
    "import numpy as np\n",
    "import rasterio\n",
    "from rasterio.features import rasterize\n",
    "from rasterio.transform import IDENTITY\n",
    "from matplotlib import pyplot\n",
    "import affine\n",
    "import json\n",
    "import random\n",
    "\n",
    "rows = cols = 1000\n",
    "comuniGeojson=json.load(open(\"comuniCovidStat.json\"))\n",
    "\n",
    "with rasterio.Env():\n",
    "    result = rasterize([(x[\"geometry\"],10000) for x in comuniGeojson['features']], out_shape=(rows, cols))\n",
    "    with rasterio.open(\n",
    "            \"test.tif\",\n",
    "            'w+', # Open the file in read/write mode\n",
    "            driver='GTiff',\n",
    "            width=cols,\n",
    "            height=rows,\n",
    "            count=1,\n",
    "            dtype=rasterio.uint8,\n",
    "            nodata=0,\n",
    "            transform = affine.Affine.translation(7-.0, -45.0)*affine.Affine.scale(1/1000000000000),\n",
    "            crs={'init': \"EPSG:4326\"}) as out:\n",
    "        out.write(result.astype(rasterio.uint8), indexes=1)\n",
    "        # Plot the image.\n",
    "        pyplot.imshow(out.read(1))\n",
    "        pyplot.show()"
   ]
  },
  {
   "cell_type": "code",
   "execution_count": null,
   "metadata": {},
   "outputs": [],
   "source": []
  }
 ],
 "metadata": {
  "language_info": {
   "codemirror_mode": {
    "name": "ipython",
    "version": 3
   },
   "file_extension": ".py",
   "mimetype": "text/x-python",
   "name": "python",
   "nbconvert_exporter": "python",
   "pygments_lexer": "ipython3",
   "version": "3.7.7-final"
  },
  "orig_nbformat": 2,
  "kernelspec": {
   "name": "gisenv",
   "display_name": "gisenv"
  }
 },
 "nbformat": 4,
 "nbformat_minor": 2
}