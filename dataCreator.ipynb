{
 "cells": [
  {
   "cell_type": "code",
   "execution_count": 1,
   "metadata": {},
   "outputs": [],
   "source": [
    "import requests\n",
    "import json"
   ]
  },
  {
   "cell_type": "code",
   "execution_count": 2,
   "metadata": {},
   "outputs": [],
   "source": [
    "dati_comuni=requests.get('https://raw.githubusercontent.com/MatteoHenryChinaski/Comuni-Italiani-2018-Sql-Json-excel/master/italy_cities.json').json()\n",
    "comuniGeojson=requests.get('https://raw.githubusercontent.com/openpolis/geojson-italy/master/geojson/limits_IT_municipalities.geojson').json()"
   ]
  },
  {
   "cell_type": "code",
   "execution_count": 3,
   "metadata": {},
   "outputs": [],
   "source": [
    "dati_province=requests.get('https://raw.githubusercontent.com/MatteoHenryChinaski/Comuni-Italiani-2018-Sql-Json-excel/master/italy_provincies.json').json()\n",
    "provinceGeojson=requests.get('https://raw.githubusercontent.com/openpolis/geojson-italy/master/geojson/limits_IT_provinces.geojson').json()"
   ]
  },
  {
   "cell_type": "code",
   "execution_count": 7,
   "metadata": {},
   "outputs": [],
   "source": [
    "covidProvincie=requests.get('https://raw.githubusercontent.com/pcm-dpc/COVID-19/master/dati-json/dpc-covid19-ita-province-latest.json').json()"
   ]
  },
  {
   "cell_type": "code",
   "execution_count": 8,
   "metadata": {},
   "outputs": [
    {
     "output_type": "execute_result",
     "data": {
      "text/plain": "({'istat': '1001',\n  'comune': 'Agliè',\n  'regione': 'Piemonte',\n  'provincia': 'TO',\n  'prefisso': '124',\n  'cod_fisco': 'A074',\n  'superficie': '13.28',\n  'num_residenti': '2669',\n  'density': 0.001183739000851547},\n {'sigla': 'AG',\n  'provincia': 'Agrigento',\n  'superficie': '3044.85',\n  'residenti': '446081',\n  'num_comuni': '43',\n  'id_regione': '15'})"
     },
     "metadata": {},
     "execution_count": 8
    }
   ],
   "source": [
    "dati_comuni[0],dati_province[0]"
   ]
  },
  {
   "cell_type": "code",
   "execution_count": 9,
   "metadata": {
    "tags": []
   },
   "outputs": [],
   "source": [
    "for i,comune in enumerate(dati_comuni[:-2]):\n",
    "    prov_code=comune['provincia']\n",
    "    prov_pop=0\n",
    "    for provincia in dati_province[:-2]:\n",
    "        if provincia['sigla']==prov_code:\n",
    "            prov_pop=float(provincia['residenti'])\n",
    "            dati_comuni[i]['density']=float(comune['num_residenti'])/prov_pop\n",
    "\n",
    "\n"
   ]
  },
  {
   "cell_type": "code",
   "execution_count": 76,
   "metadata": {},
   "outputs": [
    {
     "output_type": "execute_result",
     "data": {
      "text/plain": "0.001183739000851547"
     },
     "metadata": {},
     "execution_count": 76
    }
   ],
   "source": []
  },
  {
   "cell_type": "code",
   "execution_count": 11,
   "metadata": {
    "tags": []
   },
   "outputs": [],
   "source": [
    "for i,comune in enumerate(dati_comuni[:-2]):\n",
    "    prov_code=comune['provincia']\n",
    "    prov_pop=0\n",
    "    for provincia in covidProvincie:\n",
    "        if provincia['sigla_provincia']==prov_code:\n",
    "            prov_covid=float(provincia['totale_casi'])\n",
    "            dati_comuni[i]['covid']=dati_comuni[i]['density']*prov_covid"
   ]
  },
  {
   "cell_type": "code",
   "execution_count": 12,
   "metadata": {},
   "outputs": [
    {
     "output_type": "execute_result",
     "data": {
      "text/plain": "{'istat': '1001',\n 'comune': 'Agliè',\n 'regione': 'Piemonte',\n 'provincia': 'TO',\n 'prefisso': '124',\n 'cod_fisco': 'A074',\n 'superficie': '13.28',\n 'num_residenti': '2669',\n 'density': 0.001183739000851547,\n 'covid': 61.481036226227644}"
     },
     "metadata": {},
     "execution_count": 12
    }
   ],
   "source": [
    "dati_comuni[0]"
   ]
  },
  {
   "cell_type": "code",
   "execution_count": 8,
   "metadata": {},
   "outputs": [],
   "source": [
    "covidProvincie=requests.get('https://raw.githubusercontent.com/pcm-dpc/COVID-19/master/dati-json/dpc-covid19-ita-province-latest.json').json()"
   ]
  },
  {
   "cell_type": "code",
   "execution_count": 13,
   "metadata": {},
   "outputs": [
    {
     "output_type": "execute_result",
     "data": {
      "text/plain": "{'name': 'Agliè',\n 'op_id': '130',\n 'minint_elettorale': '1010810010',\n 'prov_name': 'Torino',\n 'prov_istat_code': '001',\n 'prov_istat_code_num': 1,\n 'prov_acr': 'TO',\n 'reg_name': 'Piemonte',\n 'reg_istat_code': '01',\n 'reg_istat_code_num': 1,\n 'opdm_id': '1',\n 'com_catasto_code': 'A074',\n 'com_istat_code': '001001',\n 'com_istat_code_num': 1001}"
     },
     "metadata": {},
     "execution_count": 13
    }
   ],
   "source": [
    "comuniGeojson['features'][0][\"properties\"]"
   ]
  },
  {
   "cell_type": "code",
   "execution_count": 25,
   "metadata": {
    "tags": []
   },
   "outputs": [],
   "source": [
    "for i,comGeo in enumerate(comuniGeojson['features'][:3]):\n",
    "    for comune in dati_comuni[:-2]:\n",
    "        if str(comGeo['properties']['com_catasto_code'])==comune['cod_fisco']:\n",
    "            comuniGeojson['features'][i]['properties']['covid']=comune['covid']"
   ]
  },
  {
   "cell_type": "code",
   "execution_count": 26,
   "metadata": {},
   "outputs": [
    {
     "output_type": "execute_result",
     "data": {
      "text/plain": "{'name': 'Agliè',\n 'op_id': '130',\n 'minint_elettorale': '1010810010',\n 'prov_name': 'Torino',\n 'prov_istat_code': '001',\n 'prov_istat_code_num': 1,\n 'prov_acr': 'TO',\n 'reg_name': 'Piemonte',\n 'reg_istat_code': '01',\n 'reg_istat_code_num': 1,\n 'opdm_id': '1',\n 'com_catasto_code': 'A074',\n 'com_istat_code': '001001',\n 'com_istat_code_num': 1001,\n 'covid': 61.481036226227644}"
     },
     "metadata": {},
     "execution_count": 26
    }
   ],
   "source": [
    "comuniGeojson[\"features\"][0]['properties']"
   ]
  },
  {
   "cell_type": "code",
   "execution_count": 27,
   "metadata": {},
   "outputs": [],
   "source": [
    "json.dump(comuniGeojson,open(\"comuniCovidStat.json\",'w'))"
   ]
  },
  {
   "cell_type": "code",
   "execution_count": null,
   "metadata": {},
   "outputs": [],
   "source": []
  }
 ],
 "metadata": {
  "language_info": {
   "codemirror_mode": {
    "name": "ipython",
    "version": 3
   },
   "file_extension": ".py",
   "mimetype": "text/x-python",
   "name": "python",
   "nbconvert_exporter": "python",
   "pygments_lexer": "ipython3",
   "version": "3.8.5-final"
  },
  "orig_nbformat": 2,
  "kernelspec": {
   "name": "python_defaultSpec_1604834932506",
   "display_name": "Python 3.8.5 64-bit"
  }
 },
 "nbformat": 4,
 "nbformat_minor": 2
}